{
 "cells": [
  {
   "cell_type": "code",
   "execution_count": null,
   "metadata": {},
   "outputs": [],
   "source": [
    "%pip install snowflake-connector-python pandas ydata_profiling"
   ]
  },
  {
   "cell_type": "code",
   "execution_count": 29,
   "metadata": {},
   "outputs": [],
   "source": [
    "# Importando as bibliotecas necessárias\n",
    "\n",
    "import pandas as pd\n",
    "import snowflake.connector\n",
    "from ydata_profiling import ProfileReport\n",
    "from pandas.api.types import is_datetime64_any_dtype as is_datetime"
   ]
  },
  {
   "cell_type": "markdown",
   "metadata": {},
   "source": [
    "## Gerando relatório para \"reviews\":"
   ]
  },
  {
   "cell_type": "code",
   "execution_count": null,
   "metadata": {},
   "outputs": [],
   "source": [
    "# Gerando relatório para reviews\n",
    "\n",
    "conn_params = {\n",
    "    'user': '',\n",
    "    'password': '',\n",
    "    'account': '',  \n",
    "    'warehouse': '',\n",
    "    'database': '',\n",
    "    'schema': '',\n",
    "    'role': '', \n",
    "}\n",
    "\n",
    "conn = snowflake.connector.connect(**conn_params)\n",
    "\n",
    "query = \"SELECT * FROM reviews LIMIT 100\" \n",
    "\n",
    "try:\n",
    "    df = pd.read_sql(query, conn)\n",
    "    display(df)  \n",
    "except Exception as e:\n",
    "    print(f\"Erro: {e}\")\n",
    "finally:\n",
    "    conn.close()\n"
   ]
  },
  {
   "cell_type": "code",
   "execution_count": 41,
   "metadata": {},
   "outputs": [
    {
     "name": "stdout",
     "output_type": "stream",
     "text": [
      "<class 'pandas.core.frame.DataFrame'>\n",
      "RangeIndex: 100 entries, 0 to 99\n",
      "Data columns (total 6 columns):\n",
      " #   Column         Non-Null Count  Dtype \n",
      "---  ------         --------------  ----- \n",
      " 0   LISTING_ID     100 non-null    int64 \n",
      " 1   ID             100 non-null    int64 \n",
      " 2   DATE           100 non-null    object\n",
      " 3   REVIEWER_ID    100 non-null    int64 \n",
      " 4   REVIEWER_NAME  100 non-null    object\n",
      " 5   COMMENTS       100 non-null    object\n",
      "dtypes: int64(3), object(3)\n",
      "memory usage: 4.8+ KB\n"
     ]
    }
   ],
   "source": [
    "df.info()"
   ]
  },
  {
   "cell_type": "code",
   "execution_count": null,
   "metadata": {},
   "outputs": [],
   "source": [
    "# Converte colunas de tipo `datetime.date` para `datetime.datetime`\n",
    "for col in df.select_dtypes(include=['object', 'datetime64[ns]']):\n",
    "    try:\n",
    "        df[col] = pd.to_datetime(df[col])\n",
    "    except Exception as e:\n",
    "        print(f\"Não foi possível converter a coluna {col}: {e}\")\n",
    "\n",
    "# Gera o relatório\n",
    "profile = ProfileReport(df, title=\"Pandas Profiling Report - Reviews\")\n",
    "profile.to_file(\"resultados_reviews.html\")\n",
    "\n"
   ]
  },
  {
   "cell_type": "markdown",
   "metadata": {},
   "source": [
    "## Gerando relatório para \"listing\":"
   ]
  },
  {
   "cell_type": "code",
   "execution_count": null,
   "metadata": {},
   "outputs": [],
   "source": [
    "# Gerando relatório para listing\n",
    "\n",
    "conn_params = {\n",
    "    'user': '',\n",
    "    'password': '',\n",
    "    'account': '',  \n",
    "    'warehouse': 'C',\n",
    "    'database': '',\n",
    "    'schema': '',\n",
    "    'role': '', \n",
    "}\n",
    "\n",
    "conn = snowflake.connector.connect(**conn_params)\n",
    "\n",
    "query = \"SELECT * FROM listing LIMIT 100\" \n",
    "\n",
    "try:\n",
    "    df_2 = pd.read_sql(query, conn)\n",
    "    display(df_2.head(2))  \n",
    "except Exception as e:\n",
    "    print(f\"Erro: {e}\")\n",
    "finally:\n",
    "    conn.close()"
   ]
  },
  {
   "cell_type": "code",
   "execution_count": 46,
   "metadata": {},
   "outputs": [
    {
     "name": "stdout",
     "output_type": "stream",
     "text": [
      "<class 'pandas.core.frame.DataFrame'>\n",
      "RangeIndex: 100 entries, 0 to 99\n",
      "Data columns (total 75 columns):\n",
      " #   Column                                        Non-Null Count  Dtype  \n",
      "---  ------                                        --------------  -----  \n",
      " 0   ID                                            100 non-null    int64  \n",
      " 1   LISTING_URL                                   100 non-null    object \n",
      " 2   SCRAPE_ID                                     100 non-null    int64  \n",
      " 3   LAST_SCRAPED                                  100 non-null    object \n",
      " 4   SOURCE                                        100 non-null    object \n",
      " 5   NAME                                          100 non-null    object \n",
      " 6   DESCRIPTION                                   100 non-null    object \n",
      " 7   NEIGHBORHOOD_OVERVIEW                         58 non-null     object \n",
      " 8   PICTURE_URL                                   100 non-null    object \n",
      " 9   HOST_ID                                       100 non-null    int64  \n",
      " 10  HOST_URL                                      100 non-null    object \n",
      " 11  HOST_NAME                                     100 non-null    object \n",
      " 12  HOST_SINCE                                    100 non-null    object \n",
      " 13  HOST_LOCATION                                 96 non-null     object \n",
      " 14  HOST_ABOUT                                    100 non-null    object \n",
      " 15  HOST_RESPONSE_TIME                            100 non-null    object \n",
      " 16  HOST_RESPONSE_RATE                            100 non-null    object \n",
      " 17  HOST_ACCEPTANCE_RATE                          100 non-null    object \n",
      " 18  HOST_IS_SUPERHOST                             98 non-null     object \n",
      " 19  HOST_THUMBNAIL_URL                            100 non-null    object \n",
      " 20  HOST_PICTURE_URL                              100 non-null    object \n",
      " 21  HOST_NEIGHBOURHOOD                            99 non-null     object \n",
      " 22  HOST_LISTINGS_COUNT                           100 non-null    int64  \n",
      " 23  HOST_TOTAL_LISTINGS_COUNT                     100 non-null    int64  \n",
      " 24  HOST_VERIFICATIONS                            100 non-null    object \n",
      " 25  HOST_HAS_PROFILE_PIC                          100 non-null    bool   \n",
      " 26  HOST_IDENTITY_VERIFIED                        100 non-null    bool   \n",
      " 27  NEIGHBOURHOOD                                 58 non-null     object \n",
      " 28  NEIGHBOURHOOD_CLEANSED                        100 non-null    object \n",
      " 29  NEIGHBOURHOOD_GROUP_CLEANSED                  0 non-null      object \n",
      " 30  LATITUDE                                      100 non-null    float64\n",
      " 31  LONGITUDE                                     100 non-null    float64\n",
      " 32  PROPERTY_TYPE                                 100 non-null    object \n",
      " 33  ROOM_TYPE                                     100 non-null    object \n",
      " 34  ACCOMMODATES                                  100 non-null    int64  \n",
      " 35  BATHROOMS                                     0 non-null      object \n",
      " 36  BATHROOMS_TEXT                                97 non-null     object \n",
      " 37  BEDROOMS                                      64 non-null     float64\n",
      " 38  BEDS                                          100 non-null    int64  \n",
      " 39  AMENITIES                                     100 non-null    object \n",
      " 40  PRICE                                         100 non-null    object \n",
      " 41  MINIMUM_NIGHTS                                100 non-null    int64  \n",
      " 42  MAXIMUM_NIGHTS                                100 non-null    int64  \n",
      " 43  MINIMUM_MINIMUM_NIGHTS                        100 non-null    int64  \n",
      " 44  MAXIMUM_MINIMUM_NIGHTS                        100 non-null    int64  \n",
      " 45  MINIMUM_MAXIMUM_NIGHTS                        100 non-null    int64  \n",
      " 46  MAXIMUM_MAXIMUM_NIGHTS                        100 non-null    int64  \n",
      " 47  MINIMUM_NIGHTS_AVG_NTM                        100 non-null    float64\n",
      " 48  MAXIMUM_NIGHTS_AVG_NTM                        100 non-null    float64\n",
      " 49  CALENDAR_UPDATED                              0 non-null      object \n",
      " 50  HAS_AVAILABILITY                              100 non-null    bool   \n",
      " 51  AVAILABILITY_30                               100 non-null    int64  \n",
      " 52  AVAILABILITY_60                               100 non-null    int64  \n",
      " 53  AVAILABILITY_90                               100 non-null    int64  \n",
      " 54  AVAILABILITY_365                              100 non-null    int64  \n",
      " 55  CALENDAR_LAST_SCRAPED                         100 non-null    object \n",
      " 56  NUMBER_OF_REVIEWS                             100 non-null    int64  \n",
      " 57  NUMBER_OF_REVIEWS_LTM                         100 non-null    int64  \n",
      " 58  NUMBER_OF_REVIEWS_L30D                        100 non-null    int64  \n",
      " 59  FIRST_REVIEW                                  95 non-null     object \n",
      " 60  LAST_REVIEW                                   95 non-null     object \n",
      " 61  REVIEW_SCORES_RATING                          95 non-null     float64\n",
      " 62  REVIEW_SCORES_ACCURACY                        95 non-null     float64\n",
      " 63  REVIEW_SCORES_CLEANLINESS                     95 non-null     float64\n",
      " 64  REVIEW_SCORES_CHECKIN                         95 non-null     float64\n",
      " 65  REVIEW_SCORES_COMMUNICATION                   95 non-null     float64\n",
      " 66  REVIEW_SCORES_LOCATION                        95 non-null     float64\n",
      " 67  REVIEW_SCORES_VALUE                           95 non-null     float64\n",
      " 68  LICENSE                                       0 non-null      object \n",
      " 69  INSTANT_BOOKABLE                              100 non-null    bool   \n",
      " 70  CALCULATED_HOST_LISTINGS_COUNT                100 non-null    int64  \n",
      " 71  CALCULATED_HOST_LISTINGS_COUNT_ENTIRE_HOMES   100 non-null    int64  \n",
      " 72  CALCULATED_HOST_LISTINGS_COUNT_PRIVATE_ROOMS  100 non-null    int64  \n",
      " 73  CALCULATED_HOST_LISTINGS_COUNT_SHARED_ROOMS   100 non-null    int64  \n",
      " 74  REVIEWS_PER_MONTH                             95 non-null     float64\n",
      "dtypes: bool(4), float64(13), int64(24), object(34)\n",
      "memory usage: 56.0+ KB\n"
     ]
    }
   ],
   "source": [
    "df_2.info()"
   ]
  },
  {
   "cell_type": "code",
   "execution_count": null,
   "metadata": {},
   "outputs": [],
   "source": [
    "# Converte colunas de tipo `datetime.date` para `datetime.datetime`\n",
    "for col in df_2.select_dtypes(include=['object', 'datetime64[ns]']):\n",
    "    try:\n",
    "        df_2[col] = pd.to_datetime(df_2[col])\n",
    "    except Exception as e:\n",
    "        print(f\"Não foi possível converter a coluna {col}: {e}\")\n",
    "\n",
    "# Gera o relatório\n",
    "profile = ProfileReport(df_2, title=\"Pandas Profiling Report - Listing\")\n",
    "profile.to_file(\"resultados_listing.html\")\n"
   ]
  },
  {
   "cell_type": "markdown",
   "metadata": {},
   "source": [
    "## Gerando relatório para \"calendar\":"
   ]
  },
  {
   "cell_type": "code",
   "execution_count": null,
   "metadata": {},
   "outputs": [],
   "source": [
    "# Gerando relatório para calendar\n",
    "\n",
    "conn_params = {\n",
    "    'user': '',\n",
    "    'password': '',\n",
    "    'account': '',  \n",
    "    'warehouse': '',\n",
    "    'database': '',\n",
    "    'schema': '',\n",
    "    'role': '', \n",
    "}\n",
    "\n",
    "conn = snowflake.connector.connect(**conn_params)\n",
    "\n",
    "query = \"SELECT * FROM calendar LIMIT 100\" \n",
    "\n",
    "try:\n",
    "    df_3 = pd.read_sql(query, conn)\n",
    "    display(df_3.head(2))  \n",
    "except Exception as e:\n",
    "    print(f\"Erro: {e}\")\n",
    "finally:\n",
    "    conn.close()"
   ]
  },
  {
   "cell_type": "code",
   "execution_count": 49,
   "metadata": {},
   "outputs": [
    {
     "name": "stdout",
     "output_type": "stream",
     "text": [
      "<class 'pandas.core.frame.DataFrame'>\n",
      "RangeIndex: 100 entries, 0 to 99\n",
      "Data columns (total 7 columns):\n",
      " #   Column          Non-Null Count  Dtype \n",
      "---  ------          --------------  ----- \n",
      " 0   LISTING_ID      100 non-null    object\n",
      " 1   DATE            100 non-null    object\n",
      " 2   AVAILABLE       100 non-null    object\n",
      " 3   PRICE           100 non-null    object\n",
      " 4   ADJUSTED_PRICE  100 non-null    object\n",
      " 5   MINIMUM_NIGHTS  100 non-null    object\n",
      " 6   MAXIMUM_NIGHTS  100 non-null    object\n",
      "dtypes: object(7)\n",
      "memory usage: 5.6+ KB\n"
     ]
    }
   ],
   "source": [
    "df_3.info()"
   ]
  },
  {
   "cell_type": "code",
   "execution_count": null,
   "metadata": {},
   "outputs": [],
   "source": [
    "# Converte colunas de tipo `datetime.date` para `datetime.datetime`\n",
    "for col in df_3.select_dtypes(include=['object', 'datetime64[ns]']):\n",
    "    try:\n",
    "        df_3[col] = pd.to_datetime(df_3[col])\n",
    "    except Exception as e:\n",
    "        print(f\"Não foi possível converter a coluna {col}: {e}\")\n",
    "\n",
    "# Gera o relatório\n",
    "profile = ProfileReport(df_3, title=\"Pandas Profiling Report - Calendar\")\n",
    "profile.to_file(\"resultados_calendar.html\")"
   ]
  }
 ],
 "metadata": {
  "kernelspec": {
   "display_name": "Python 3",
   "language": "python",
   "name": "python3"
  },
  "language_info": {
   "codemirror_mode": {
    "name": "ipython",
    "version": 3
   },
   "file_extension": ".py",
   "mimetype": "text/x-python",
   "name": "python",
   "nbconvert_exporter": "python",
   "pygments_lexer": "ipython3",
   "version": "3.12.2"
  }
 },
 "nbformat": 4,
 "nbformat_minor": 2
}
